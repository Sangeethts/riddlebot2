{
  "nbformat": 4,
  "nbformat_minor": 0,
  "metadata": {
    "colab": {
      "provenance": [],
      "authorship_tag": "ABX9TyNiiBNR64j7Wieg7A7WP/ms",
      "include_colab_link": true
    },
    "kernelspec": {
      "name": "python3",
      "display_name": "Python 3"
    },
    "language_info": {
      "name": "python"
    }
  },
  "cells": [
    {
      "cell_type": "markdown",
      "metadata": {
        "id": "view-in-github",
        "colab_type": "text"
      },
      "source": [
        "<a href=\"https://colab.research.google.com/github/Sangeethts/riddlebot2/blob/main/riddlebot2.ipynb\" target=\"_parent\"><img src=\"https://colab.research.google.com/assets/colab-badge.svg\" alt=\"Open In Colab\"/></a>"
      ]
    },
    {
      "cell_type": "code",
      "source": [
        "import re\n",
        "import random\n",
        "import time\n",
        "import sys\n",
        "\n",
        "class RiddleBot:\n",
        "    def __init__(self):\n",
        "        self.begin = (\"yes\", \"sure\", \"alright\", \"surely\", \"my pleasure\", \"yeah\")\n",
        "        self.exit = [\"quit\", \"pause\", \"exit\", \"goodbye\", \"bye\", \"later\"]\n",
        "\n",
        "        self.riddles = {\n",
        "            \"What has a face and two hands but no arms or legs?\": \"A clock\",\n",
        "            \"What has one eye but can't see?\": \"A needle\",\n",
        "            \"I'm tall when I'm young, and I'm short when I'm old. What am I?\": \"A candle\",\n",
        "            \"What belongs to you, but other people use it more than you?\": \"Your name\"\n",
        "        }\n",
        "\n",
        "    def greet(self):\n",
        "        self.name = input(\"Hey, what's your name? \")\n",
        "        time.sleep(1)\n",
        "        print(f\"Hello, {self.name}! Welcome to RiddleBot!\")\n",
        "        time.sleep(1)\n",
        "        yes_or_no = input(\"Shall we get started? \")\n",
        "        time.sleep(1)\n",
        "        if yes_or_no.lower() in self.exit:\n",
        "            print(\"Okay, see you later then!\")\n",
        "            time.sleep(1)\n",
        "            sys.exit\n",
        "        else:\n",
        "            self.riddle()\n",
        "\n",
        "    def riddle(self):\n",
        "        while True:\n",
        "            riddle = random.choice(list(self.riddles.keys()))\n",
        "            print(\"Riddle: \" + riddle)\n",
        "            answer = input(\"Your answer: \").strip().capitalize()\n",
        "            time.sleep(1)\n",
        "            correct_answer = self.riddles.get(riddle).capitalize()\n",
        "\n",
        "            answer_pattern = re.compile(r'\\b' + re.escape(correct_answer) + r'\\b', re.IGNORECASE)\n",
        "\n",
        "            if re.search(answer_pattern, answer):\n",
        "                print(\"Correct! Well done!\")\n",
        "                time.sleep(1)\n",
        "            elif answer in self.exit:\n",
        "              print(\"seeyaa \")\n",
        "              sys.exit\n",
        "            else:\n",
        "                print(f\"Sorry, the correct answer is '{correct_answer}'.\")\n",
        "                time.sleep(1)\n",
        "                print(\"You can teach me one if you want.\")\n",
        "                time.sleep(1)\n",
        "                choice = input(\"Do you wanna teach me one? \").strip().lower()\n",
        "                if choice in self.begin:\n",
        "                    self.learn_riddle()\n",
        "                else:\n",
        "                    sys.exit\n",
        "\n",
        "    def learn_riddle(self):\n",
        "        new_riddle = input(\"Add your riddle here: \")\n",
        "        time.sleep(1)\n",
        "        correct_answer = input(\"What's the answer to this riddle? \").strip().capitalize()\n",
        "        time.sleep(1)\n",
        "        self.riddles[new_riddle] = correct_answer\n",
        "        print(\"Thanks for that!\")\n",
        "        time.sleep(1)\n",
        "\n",
        "riddle_bot = RiddleBot()\n",
        "riddle_bot.greet()\n",
        "\n"
      ],
      "metadata": {
        "id": "Y-xfQVKnBE95",
        "colab": {
          "base_uri": "https://localhost:8080/"
        },
        "outputId": "c7a783df-f127-411c-c7ef-b2b139351603"
      },
      "execution_count": null,
      "outputs": [
        {
          "output_type": "stream",
          "name": "stdout",
          "text": [
            "Hey, what's your name? sangeeth\n",
            "Hello, sangeeth! Welcome to RiddleBot!\n",
            "Shall we get started? yes\n",
            "Riddle: I'm tall when I'm young, and I'm short when I'm old. What am I?\n",
            "Your answer: exit\n",
            "Sorry, the correct answer is 'A candle'.\n",
            "You can teach me one if you want.\n"
          ]
        }
      ]
    }
  ]
}